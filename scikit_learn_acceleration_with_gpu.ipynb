{
  "cells": [
    {
      "cell_type": "markdown",
      "metadata": {
        "id": "view-in-github",
        "colab_type": "text"
      },
      "source": [
        "<a href=\"https://colab.research.google.com/github/ImanolSupo/DP-MDP-RL-Algorithms/blob/main/scikit_learn_acceleration_with_gpu.ipynb\" target=\"_parent\"><img src=\"https://colab.research.google.com/assets/colab-badge.svg\" alt=\"Open In Colab\"/></a>"
      ]
    },
    {
      "cell_type": "markdown",
      "metadata": {
        "id": "Z3pnwMUT2aok"
      },
      "source": [
        "# Accelerating scikit-learn with GPU: Random Forest classification"
      ]
    },
    {
      "cell_type": "markdown",
      "metadata": {
        "id": "AgZY5fZEEl4M"
      },
      "source": [
        "Add `%load_ext cuml.accel` before importing sklearn to speed up operations using GPU."
      ]
    },
    {
      "cell_type": "code",
      "execution_count": null,
      "metadata": {
        "id": "p-nJjhuP1n3q"
      },
      "outputs": [],
      "source": [
        "%load_ext cuml.accel\n",
        "from sklearn.datasets import make_classification\n",
        "from sklearn.model_selection import train_test_split\n",
        "from sklearn.metrics import classification_report\n",
        "from sklearn.ensemble import RandomForestClassifier\n",
        "\n",
        "X, y = make_classification(n_samples=100000, n_features=100, random_state=0)\n",
        "X_train, X_test, y_train, y_test = train_test_split(X, y, test_size=0.2)\n",
        "\n",
        "clf = RandomForestClassifier(n_estimators=100, max_depth=5, max_features=1.0, n_jobs=-1)\n",
        "clf.fit(X_train, y_train)\n",
        "\n",
        "y_pred = clf.predict(X_test)\n",
        "print(classification_report(y_test, y_pred))"
      ]
    },
    {
      "cell_type": "markdown",
      "metadata": {
        "id": "qrCF_Xc1Vg-V"
      },
      "source": [
        "# Accelerating scikit-learn with GPU: K-Nearest Neighbors classifier"
      ]
    },
    {
      "cell_type": "markdown",
      "metadata": {
        "id": "HI5dgSu92iAB"
      },
      "source": [
        "Add `%load_ext cuml.accel` before importing sklearn to speed up operations using GPU\n"
      ]
    },
    {
      "cell_type": "code",
      "execution_count": null,
      "metadata": {
        "id": "oBLxBuCi0nn7"
      },
      "outputs": [],
      "source": [
        "%load_ext cuml.accel\n",
        "from sklearn.datasets import make_classification\n",
        "from sklearn.model_selection import train_test_split\n",
        "from sklearn.metrics import classification_report\n",
        "from sklearn.neighbors import KNeighborsClassifier\n",
        "\n",
        "X, y = make_classification(n_samples=100000, n_features=100, random_state=0)\n",
        "X_train, X_test, y_train, y_test = train_test_split(X, y, test_size=0.2)\n",
        "\n",
        "knn = KNeighborsClassifier(n_neighbors=5)\n",
        "knn.fit(X_train, y_train)\n",
        "\n",
        "y_pred = knn.predict(X_test)\n",
        "print(classification_report(y_test, y_pred))"
      ]
    },
    {
      "cell_type": "markdown",
      "metadata": {
        "id": "11_L4bhyVuet"
      },
      "source": [
        "# Accelerating scikit-learn with GPU: Logistic Regression classifier\n"
      ]
    },
    {
      "cell_type": "markdown",
      "metadata": {
        "id": "5zsnXoCtVuet"
      },
      "source": [
        "Add `%load_ext cuml.accel` before importing sklearn to speed up operations using GPU\n"
      ]
    },
    {
      "cell_type": "code",
      "execution_count": null,
      "metadata": {
        "id": "V-O3HJ967qSv"
      },
      "outputs": [],
      "source": [
        "%load_ext cuml.accel\n",
        "from sklearn.datasets import make_classification\n",
        "from sklearn.model_selection import train_test_split\n",
        "from sklearn.linear_model import LogisticRegression\n",
        "\n",
        "X, y = make_classification(n_samples=1000000, n_features=200, random_state=0)\n",
        "X_train, X_test, y_train, y_test = train_test_split(X, y, test_size=0.2)\n",
        "\n",
        "clf = LogisticRegression()\n",
        "clf.fit(X_train, y_train)\n",
        "y_pred = clf.predict(X_test)\n",
        "print(classification_report(y_test, y_pred))"
      ]
    },
    {
      "cell_type": "markdown",
      "metadata": {
        "id": "_wfnzxYJV0MN"
      },
      "source": [
        "# Accelerating scikit-learn with GPU: K-Means Segmentation"
      ]
    },
    {
      "cell_type": "markdown",
      "metadata": {
        "id": "hAQb5rk8V0MN"
      },
      "source": [
        "Add `%load_ext cuml.accel` before importing sklearn to speed up operations using GPU\n"
      ]
    },
    {
      "cell_type": "code",
      "execution_count": null,
      "metadata": {
        "id": "S4X-E0db1nww"
      },
      "outputs": [],
      "source": [
        "%load_ext cuml.accel\n",
        "from sklearn.cluster import KMeans\n",
        "from sklearn.datasets import make_blobs\n",
        "from sklearn.metrics import silhouette_score\n",
        "\n",
        "n_samples = 1000\n",
        "n_features = 2\n",
        "n_clusters = 3\n",
        "X, _ = make_blobs(n_samples=n_samples, n_features=n_features, centers=n_clusters, random_state=42)\n",
        "\n",
        "kmeans = KMeans(n_clusters=n_clusters, max_iter=100)\n",
        "kmeans.fit(X)\n",
        "\n",
        "labels = kmeans.labels_\n",
        "print(silhouette_score(X, labels))"
      ]
    },
    {
      "cell_type": "markdown",
      "metadata": {
        "id": "KxuNFChgV5GG"
      },
      "source": [
        "# Accelerating scikit-learn with GPU: HDBSCAN Segmentation"
      ]
    },
    {
      "cell_type": "markdown",
      "metadata": {
        "id": "Vwai7AgtV5GG"
      },
      "source": [
        "Add `%load_ext cuml.accel` before importing sklearn to speed up operations using GPU\n"
      ]
    },
    {
      "cell_type": "code",
      "execution_count": null,
      "metadata": {
        "id": "3YDWZrTD1np3"
      },
      "outputs": [],
      "source": [
        "%load_ext cuml.accel\n",
        "import hdbscan\n",
        "from sklearn.datasets import make_blobs\n",
        "from sklearn.metrics import silhouette_score\n",
        "\n",
        "n_samples = 1000\n",
        "n_features = 2\n",
        "n_clusters = 3\n",
        "X, _ = make_blobs(n_samples=n_samples, n_features=n_features, centers=n_clusters, random_state=42)\n",
        "\n",
        "clus = hdbscan.HDBSCAN()\n",
        "clus.fit(X)\n",
        "\n",
        "print(silhouette_score(X, clus.labels_))"
      ]
    },
    {
      "cell_type": "markdown",
      "metadata": {
        "id": "NaxFBnX7WD2C"
      },
      "source": [
        "# Accelerating scikit-learn with GPU: PCA Dimensionality Reduction"
      ]
    },
    {
      "cell_type": "markdown",
      "metadata": {
        "id": "QYDkxgNjWD2D"
      },
      "source": [
        "Add `%load_ext cuml.accel` before importing sklearn to speed up operations using GPU\n"
      ]
    },
    {
      "cell_type": "code",
      "execution_count": null,
      "metadata": {
        "id": "87EoRNgA1nbZ"
      },
      "outputs": [],
      "source": [
        "%load_ext cuml.accel\n",
        "import numpy as np\n",
        "from sklearn.decomposition import PCA\n",
        "\n",
        "X = np.array([[-1, -1], [-2, -1], [-3, -2], [1, 1], [2, 1], [3, 2]])\n",
        "pca = PCA(n_components=2)\n",
        "pca.fit(X)\n",
        "\n",
        "print(pca.explained_variance_ratio_)\n",
        "print(pca.singular_values_)"
      ]
    },
    {
      "cell_type": "markdown",
      "metadata": {
        "id": "ToOE0IdhWJHm"
      },
      "source": [
        "# Accelerating scikit-learn with GPU: UMAP Dimensionality Reduction"
      ]
    },
    {
      "cell_type": "markdown",
      "metadata": {
        "id": "deqs7JmtWJHm"
      },
      "source": [
        "Add `%load_ext cuml.accel` before importing sklearn to speed up operations using GPU\n"
      ]
    },
    {
      "cell_type": "code",
      "execution_count": null,
      "metadata": {
        "id": "Cj1L2DSX0tUY"
      },
      "outputs": [],
      "source": [
        "%load_ext cuml.accel\n",
        "import matplotlib.pyplot as plt\n",
        "from sklearn.datasets import make_classification\n",
        "from sklearn.model_selection import train_test_split\n",
        "import umap\n",
        "\n",
        "X, y = make_classification(n_samples=100000, n_features=20, n_classes=5, n_informative=5, random_state=0)\n",
        "X_train, _, y_train, _ = train_test_split(X, y, test_size=0.2)\n",
        "\n",
        "umap_model = umap.UMAP(n_neighbors=15, n_components=2, random_state=42, min_dist=0.0)\n",
        "X_train_umap = umap_model.fit_transform(X_train)\n",
        "y_train\n",
        "# Plot the UMAP result\n",
        "plt.figure(figsize=(10, 8))\n",
        "plt.scatter(X_train_umap[:, 0], X_train_umap[:, 1], c=y_train, cmap='Spectral', s=10)\n",
        "plt.colorbar(label=\"Activity\")\n",
        "plt.title(\"UMAP projection\")\n",
        "plt.xlabel(\"UMAP Component 1\")\n",
        "plt.ylabel(\"UMAP Component 2\")\n",
        "plt.show()"
      ]
    }
  ],
  "metadata": {
    "colab": {
      "private_outputs": true,
      "provenance": [],
      "include_colab_link": true
    },
    "language_info": {
      "name": "python"
    },
    "kernelspec": {
      "name": "python3",
      "display_name": "Python 3"
    }
  },
  "nbformat": 4,
  "nbformat_minor": 0
}